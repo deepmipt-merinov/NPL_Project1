{
 "cells": [
  {
   "cell_type": "markdown",
   "metadata": {
    "deletable": true,
    "editable": true
   },
   "source": [
    "### Задача"
   ]
  },
  {
   "cell_type": "markdown",
   "metadata": {
    "deletable": true,
    "editable": true
   },
   "source": [
    "Используя доступный набор данных о посещении страниц у одной части пользователей, сделать прогноз относительно **пола и возрастной категории** другой части пользователей. Угадывание (hit) - правильное предсказание и пола, и возрастной категории одновременно.\n",
    "\n",
    "Мы не ограничиваем вас в выборе инструментов и методов работы с данными. Используйте любые эвристики, внешние источники, парсинг контента страниц — всё, что поможет вам выполнить задачу. Единственное ограничение — никаких ручных действий. Руками проставлять классы нельзя.\n",
    "\n",
    "Поскольку это ваш проект, который мы наверняка захотите показать другим, уделите его оформлению достаточно времени. Мы рекомендуем сделать весь проект в этом ноутбуке. Снизу, под заданием, вы сможете описать ваше решение.\n",
    "\n",
    "⏰ **Дедлайн: 06 мая 2018, 23:59**"
   ]
  },
  {
   "cell_type": "code",
   "execution_count": 1,
   "metadata": {
    "collapsed": true,
    "deletable": true,
    "editable": true
   },
   "outputs": [],
   "source": [
    "import numpy as np\n",
    "import matplotlib.pyplot as plt\n",
    "import pandas as pd\n",
    "import re\n",
    "import os, sys\n",
    "import json\n",
    "from urllib.parse import urlparse\n",
    "from urllib.request import urlretrieve, unquote\n",
    "import datetime\n",
    "\n",
    "import matplotlib.pyplot as plt\n",
    "%matplotlib inline"
   ]
  },
  {
   "cell_type": "code",
   "execution_count": 2,
   "metadata": {
    "collapsed": true,
    "deletable": true,
    "editable": true
   },
   "outputs": [],
   "source": [
    "from xgboost import XGBClassifier\n",
    "from sklearn.decomposition import LatentDirichletAllocation\n",
    "from sklearn.model_selection import train_test_split, cross_val_score\n",
    "from sklearn.ensemble import RandomForestClassifier\n",
    "from sklearn.model_selection import StratifiedKFold\n",
    "from collections import Counter\n",
    "import seaborn as sns\n",
    "from sklearn.metrics import accuracy_score\n",
    "plt.style.use('ggplot')"
   ]
  },
  {
   "cell_type": "markdown",
   "metadata": {
    "deletable": true,
    "editable": true
   },
   "source": [
    "# Import"
   ]
  },
  {
   "cell_type": "code",
   "execution_count": 3,
   "metadata": {
    "collapsed": false,
    "deletable": true,
    "editable": true
   },
   "outputs": [
    {
     "name": "stdout",
     "output_type": "stream",
     "text": [
      "OK\n"
     ]
    }
   ],
   "source": [
    "# First, we download the input data for the project:\n",
    "\n",
    "data_dir = '/data/home/artem.merinov/project01/'\n",
    "filename = 'gender_age_dataset.txt'\n",
    "file_path = '/'.join([data_dir,filename])\n",
    "url = 'http://data.newprolab.com/data-newprolab-com/project01/' + filename\n",
    "\n",
    "if not os.path.isdir(data_dir): os.mkdir(data_dir)\n",
    "if not os.path.isfile(file_path):\n",
    "    print('Downloading ' + filename + '...')\n",
    "    urlretrieve(url, file_path)\n",
    "    print('Download completed')\n",
    "\n",
    "# Wait until you see that all files have been downloaded.\n",
    "print('OK')"
   ]
  },
  {
   "cell_type": "code",
   "execution_count": 4,
   "metadata": {
    "collapsed": true,
    "deletable": true,
    "editable": true
   },
   "outputs": [],
   "source": [
    "df = pd.read_csv(file_path, sep='\\t')"
   ]
  },
  {
   "cell_type": "code",
   "execution_count": 5,
   "metadata": {
    "collapsed": false,
    "deletable": true,
    "editable": true
   },
   "outputs": [
    {
     "data": {
      "text/html": [
       "<div>\n",
       "<style>\n",
       "    .dataframe thead tr:only-child th {\n",
       "        text-align: right;\n",
       "    }\n",
       "\n",
       "    .dataframe thead th {\n",
       "        text-align: left;\n",
       "    }\n",
       "\n",
       "    .dataframe tbody tr th {\n",
       "        vertical-align: top;\n",
       "    }\n",
       "</style>\n",
       "<table border=\"1\" class=\"dataframe\">\n",
       "  <thead>\n",
       "    <tr style=\"text-align: right;\">\n",
       "      <th></th>\n",
       "      <th>gender</th>\n",
       "      <th>age</th>\n",
       "      <th>uid</th>\n",
       "      <th>user_json</th>\n",
       "    </tr>\n",
       "  </thead>\n",
       "  <tbody>\n",
       "    <tr>\n",
       "      <th>0</th>\n",
       "      <td>F</td>\n",
       "      <td>18-24</td>\n",
       "      <td>d50192e5-c44e-4ae8-ae7a-7cfe67c8b777</td>\n",
       "      <td>{\"visits\": [{\"url\": \"http://zebra-zoya.ru/2000...</td>\n",
       "    </tr>\n",
       "    <tr>\n",
       "      <th>1</th>\n",
       "      <td>M</td>\n",
       "      <td>25-34</td>\n",
       "      <td>d502331d-621e-4721-ada2-5d30b2c3801f</td>\n",
       "      <td>{\"visits\": [{\"url\": \"http://sweetrading.ru/?p=...</td>\n",
       "    </tr>\n",
       "    <tr>\n",
       "      <th>2</th>\n",
       "      <td>F</td>\n",
       "      <td>25-34</td>\n",
       "      <td>d50237ea-747e-48a2-ba46-d08e71dddfdb</td>\n",
       "      <td>{\"visits\": [{\"url\": \"http://ru.oriflame.com/pr...</td>\n",
       "    </tr>\n",
       "    <tr>\n",
       "      <th>3</th>\n",
       "      <td>F</td>\n",
       "      <td>25-34</td>\n",
       "      <td>d502f29f-d57a-46bf-8703-1cb5f8dcdf03</td>\n",
       "      <td>{\"visits\": [{\"url\": \"http://translate-tattoo.r...</td>\n",
       "    </tr>\n",
       "    <tr>\n",
       "      <th>4</th>\n",
       "      <td>M</td>\n",
       "      <td>&gt;=55</td>\n",
       "      <td>d503c3b2-a0c2-4f47-bb27-065058c73008</td>\n",
       "      <td>{\"visits\": [{\"url\": \"https://mail.rambler.ru/#...</td>\n",
       "    </tr>\n",
       "  </tbody>\n",
       "</table>\n",
       "</div>"
      ],
      "text/plain": [
       "  gender    age                                   uid  \\\n",
       "0      F  18-24  d50192e5-c44e-4ae8-ae7a-7cfe67c8b777   \n",
       "1      M  25-34  d502331d-621e-4721-ada2-5d30b2c3801f   \n",
       "2      F  25-34  d50237ea-747e-48a2-ba46-d08e71dddfdb   \n",
       "3      F  25-34  d502f29f-d57a-46bf-8703-1cb5f8dcdf03   \n",
       "4      M   >=55  d503c3b2-a0c2-4f47-bb27-065058c73008   \n",
       "\n",
       "                                           user_json  \n",
       "0  {\"visits\": [{\"url\": \"http://zebra-zoya.ru/2000...  \n",
       "1  {\"visits\": [{\"url\": \"http://sweetrading.ru/?p=...  \n",
       "2  {\"visits\": [{\"url\": \"http://ru.oriflame.com/pr...  \n",
       "3  {\"visits\": [{\"url\": \"http://translate-tattoo.r...  \n",
       "4  {\"visits\": [{\"url\": \"https://mail.rambler.ru/#...  "
      ]
     },
     "execution_count": 5,
     "metadata": {},
     "output_type": "execute_result"
    }
   ],
   "source": [
    "df.head()"
   ]
  },
  {
   "cell_type": "markdown",
   "metadata": {
    "deletable": true,
    "editable": true
   },
   "source": [
    "В файле есть 4 поля:\n",
    "* **gender** - пол, принимающий значения `M` (male - мужчина), `F` (female - женщина), `-` (пол неизвестен);\n",
    "* **age** - возраст, представленный в виде диапазона x-y (строковый тип), или `-` (возрастная категория неизвестна);\n",
    "* **uid** - идентификатор пользователя, строковая переменная;\n",
    "* **user_json** - поле json, в котором содержатся записи о посещении сайтов этим пользователем `(url, timestamp)`."
   ]
  },
  {
   "cell_type": "markdown",
   "metadata": {
    "deletable": true,
    "editable": true
   },
   "source": [
    "# Feature engineering"
   ]
  },
  {
   "cell_type": "markdown",
   "metadata": {
    "deletable": true,
    "editable": true
   },
   "source": [
    "**Распарсим json-ы для всего датафрейма**"
   ]
  },
  {
   "cell_type": "code",
   "execution_count": 6,
   "metadata": {
    "collapsed": true,
    "deletable": true,
    "editable": true
   },
   "outputs": [],
   "source": [
    "df['user_json_parsed'] = df['user_json'].apply(json.loads)"
   ]
  },
  {
   "cell_type": "code",
   "execution_count": 7,
   "metadata": {
    "collapsed": false,
    "deletable": true,
    "editable": true
   },
   "outputs": [
    {
     "data": {
      "text/html": [
       "<div>\n",
       "<style>\n",
       "    .dataframe thead tr:only-child th {\n",
       "        text-align: right;\n",
       "    }\n",
       "\n",
       "    .dataframe thead th {\n",
       "        text-align: left;\n",
       "    }\n",
       "\n",
       "    .dataframe tbody tr th {\n",
       "        vertical-align: top;\n",
       "    }\n",
       "</style>\n",
       "<table border=\"1\" class=\"dataframe\">\n",
       "  <thead>\n",
       "    <tr style=\"text-align: right;\">\n",
       "      <th></th>\n",
       "      <th>gender</th>\n",
       "      <th>age</th>\n",
       "      <th>uid</th>\n",
       "      <th>user_json</th>\n",
       "      <th>user_json_parsed</th>\n",
       "    </tr>\n",
       "  </thead>\n",
       "  <tbody>\n",
       "    <tr>\n",
       "      <th>0</th>\n",
       "      <td>F</td>\n",
       "      <td>18-24</td>\n",
       "      <td>d50192e5-c44e-4ae8-ae7a-7cfe67c8b777</td>\n",
       "      <td>{\"visits\": [{\"url\": \"http://zebra-zoya.ru/2000...</td>\n",
       "      <td>{'visits': [{'url': 'http://zebra-zoya.ru/2000...</td>\n",
       "    </tr>\n",
       "    <tr>\n",
       "      <th>1</th>\n",
       "      <td>M</td>\n",
       "      <td>25-34</td>\n",
       "      <td>d502331d-621e-4721-ada2-5d30b2c3801f</td>\n",
       "      <td>{\"visits\": [{\"url\": \"http://sweetrading.ru/?p=...</td>\n",
       "      <td>{'visits': [{'url': 'http://sweetrading.ru/?p=...</td>\n",
       "    </tr>\n",
       "  </tbody>\n",
       "</table>\n",
       "</div>"
      ],
      "text/plain": [
       "  gender    age                                   uid  \\\n",
       "0      F  18-24  d50192e5-c44e-4ae8-ae7a-7cfe67c8b777   \n",
       "1      M  25-34  d502331d-621e-4721-ada2-5d30b2c3801f   \n",
       "\n",
       "                                           user_json  \\\n",
       "0  {\"visits\": [{\"url\": \"http://zebra-zoya.ru/2000...   \n",
       "1  {\"visits\": [{\"url\": \"http://sweetrading.ru/?p=...   \n",
       "\n",
       "                                    user_json_parsed  \n",
       "0  {'visits': [{'url': 'http://zebra-zoya.ru/2000...  \n",
       "1  {'visits': [{'url': 'http://sweetrading.ru/?p=...  "
      ]
     },
     "execution_count": 7,
     "metadata": {},
     "output_type": "execute_result"
    }
   ],
   "source": [
    "df.head(2)"
   ]
  },
  {
   "cell_type": "markdown",
   "metadata": {
    "deletable": true,
    "editable": true
   },
   "source": [
    "**И для каждого пользователя вытащим**\n",
    "    \n",
    "    список урлов \n",
    "    список доменов\n",
    "    список времени посещения сайтов    "
   ]
  },
  {
   "cell_type": "code",
   "execution_count": 8,
   "metadata": {
    "collapsed": false,
    "deletable": true,
    "editable": true
   },
   "outputs": [
    {
     "name": "stdout",
     "output_type": "stream",
     "text": [
      "CPU times: user 1min 40s, sys: 2.14 s, total: 1min 42s\n",
      "Wall time: 1min 42s\n"
     ]
    }
   ],
   "source": [
    "%%time\n",
    "def url2domain(url):\n",
    "    url = re.sub('(http(s)*://)+', 'http://', url)\n",
    "    parsed_url = urlparse(unquote(url.strip()))\n",
    "    if parsed_url.scheme not in ['http','https']: \n",
    "        return None\n",
    "    netloc = re.search(\"(?:www\\.)?(.*)\", parsed_url.netloc).group(1)\n",
    "    if netloc is not None: \n",
    "        return netloc\n",
    "    return None\n",
    "\n",
    "def get_visits_info(df):\n",
    "    urls_list, domains_list, time_list = [], [], []\n",
    "    for uid in range(len(df)):\n",
    "        visits = df.iloc[uid]['user_json_parsed']['visits']\n",
    "        urls_per_user, time_per_user, domains_per_user = [], [], []\n",
    "        for visit in visits:        \n",
    "            urls_per_user.append(visit['url'])\n",
    "            domains_per_user.append(url2domain(visit['url']))\n",
    "            time_per_user.append(datetime.datetime.fromtimestamp(visit['timestamp'] / 1e3))            \n",
    "        urls_list.append(urls_per_user)\n",
    "        domains_list.append(domains_per_user)\n",
    "        time_list.append(time_per_user)\n",
    "    df = df.copy()\n",
    "    df['urls'] = urls_list\n",
    "    df['domains'] = domains_list\n",
    "    df['timestamp'] = time_list\n",
    "    return df\n",
    "\n",
    "df = get_visits_info(df)"
   ]
  },
  {
   "cell_type": "code",
   "execution_count": 9,
   "metadata": {
    "collapsed": false,
    "deletable": true,
    "editable": true
   },
   "outputs": [
    {
     "data": {
      "text/html": [
       "<div>\n",
       "<style>\n",
       "    .dataframe thead tr:only-child th {\n",
       "        text-align: right;\n",
       "    }\n",
       "\n",
       "    .dataframe thead th {\n",
       "        text-align: left;\n",
       "    }\n",
       "\n",
       "    .dataframe tbody tr th {\n",
       "        vertical-align: top;\n",
       "    }\n",
       "</style>\n",
       "<table border=\"1\" class=\"dataframe\">\n",
       "  <thead>\n",
       "    <tr style=\"text-align: right;\">\n",
       "      <th></th>\n",
       "      <th>gender</th>\n",
       "      <th>age</th>\n",
       "      <th>uid</th>\n",
       "      <th>user_json</th>\n",
       "      <th>user_json_parsed</th>\n",
       "      <th>urls</th>\n",
       "      <th>domains</th>\n",
       "      <th>timestamp</th>\n",
       "    </tr>\n",
       "  </thead>\n",
       "  <tbody>\n",
       "    <tr>\n",
       "      <th>0</th>\n",
       "      <td>F</td>\n",
       "      <td>18-24</td>\n",
       "      <td>d50192e5-c44e-4ae8-ae7a-7cfe67c8b777</td>\n",
       "      <td>{\"visits\": [{\"url\": \"http://zebra-zoya.ru/2000...</td>\n",
       "      <td>{'visits': [{'url': 'http://zebra-zoya.ru/2000...</td>\n",
       "      <td>[http://zebra-zoya.ru/200028-chehol-organayzer...</td>\n",
       "      <td>[zebra-zoya.ru, news.yandex.ru, sotovik.ru, ne...</td>\n",
       "      <td>[2014-12-27 16:49:04.068000, 2015-03-18 11:11:...</td>\n",
       "    </tr>\n",
       "    <tr>\n",
       "      <th>1</th>\n",
       "      <td>M</td>\n",
       "      <td>25-34</td>\n",
       "      <td>d502331d-621e-4721-ada2-5d30b2c3801f</td>\n",
       "      <td>{\"visits\": [{\"url\": \"http://sweetrading.ru/?p=...</td>\n",
       "      <td>{'visits': [{'url': 'http://sweetrading.ru/?p=...</td>\n",
       "      <td>[http://sweetrading.ru/?p=900, http://sweetrad...</td>\n",
       "      <td>[sweetrading.ru, sweetrading.ru, sweetrading.r...</td>\n",
       "      <td>[2014-12-28 01:04:46.224000, 2014-12-28 01:04:...</td>\n",
       "    </tr>\n",
       "  </tbody>\n",
       "</table>\n",
       "</div>"
      ],
      "text/plain": [
       "  gender    age                                   uid  \\\n",
       "0      F  18-24  d50192e5-c44e-4ae8-ae7a-7cfe67c8b777   \n",
       "1      M  25-34  d502331d-621e-4721-ada2-5d30b2c3801f   \n",
       "\n",
       "                                           user_json  \\\n",
       "0  {\"visits\": [{\"url\": \"http://zebra-zoya.ru/2000...   \n",
       "1  {\"visits\": [{\"url\": \"http://sweetrading.ru/?p=...   \n",
       "\n",
       "                                    user_json_parsed  \\\n",
       "0  {'visits': [{'url': 'http://zebra-zoya.ru/2000...   \n",
       "1  {'visits': [{'url': 'http://sweetrading.ru/?p=...   \n",
       "\n",
       "                                                urls  \\\n",
       "0  [http://zebra-zoya.ru/200028-chehol-organayzer...   \n",
       "1  [http://sweetrading.ru/?p=900, http://sweetrad...   \n",
       "\n",
       "                                             domains  \\\n",
       "0  [zebra-zoya.ru, news.yandex.ru, sotovik.ru, ne...   \n",
       "1  [sweetrading.ru, sweetrading.ru, sweetrading.r...   \n",
       "\n",
       "                                           timestamp  \n",
       "0  [2014-12-27 16:49:04.068000, 2015-03-18 11:11:...  \n",
       "1  [2014-12-28 01:04:46.224000, 2014-12-28 01:04:...  "
      ]
     },
     "execution_count": 9,
     "metadata": {},
     "output_type": "execute_result"
    }
   ],
   "source": [
    "df.head(2)"
   ]
  },
  {
   "cell_type": "markdown",
   "metadata": {
    "deletable": true,
    "editable": true
   },
   "source": [
    "**Создадим новые признаки**\n",
    "    \n",
    "    night_visit_rate\n",
    "    morning_visit_rate\n",
    "    daytime_visit_rate\n",
    "    evening_visit_rate\n",
    "   "
   ]
  },
  {
   "cell_type": "code",
   "execution_count": 10,
   "metadata": {
    "collapsed": false,
    "deletable": true,
    "editable": true
   },
   "outputs": [
    {
     "name": "stdout",
     "output_type": "stream",
     "text": [
      "CPU times: user 7.27 s, sys: 36.1 ms, total: 7.31 s\n",
      "Wall time: 7.31 s\n"
     ]
    }
   ],
   "source": [
    "%%time\n",
    "def time2daytime(df):\n",
    "    night_visit_rate, morning_visit_rate, daytime_visit_rate, evening_visit_rate = [], [], [], []\n",
    "\n",
    "    for uid in range(len(df)):\n",
    "        ts_per_uid = df.iloc[uid]['timestamp']    \n",
    "        night_visits, morning_visits, daytime_visits, evening_visits = 0, 0, 0, 0\n",
    "        for ts in ts_per_uid:               \n",
    "\n",
    "            if 0 <= ts.hour < 6:\n",
    "                night_visits += 1\n",
    "            elif 6 <= ts.hour < 12:\n",
    "                morning_visits += 1\n",
    "            elif 12 <= ts.hour < 18:\n",
    "                daytime_visits += 1\n",
    "            elif 18 <= ts.hour <= 23:\n",
    "                evening_visits += 1\n",
    "\n",
    "        night_visit_rate.append(night_visits / len(ts_per_uid))\n",
    "        morning_visit_rate.append(morning_visits / len(ts_per_uid))\n",
    "        daytime_visit_rate.append(daytime_visits / len(ts_per_uid))\n",
    "        evening_visit_rate.append(evening_visits / len(ts_per_uid))\n",
    "    \n",
    "    df = df.copy()\n",
    "    df['night_visit_rate'] = night_visit_rate\n",
    "    df['morning_visit_rate'] = morning_visit_rate\n",
    "    df['daytime_visit_rate'] = daytime_visit_rate\n",
    "    df['evening_visit_rate'] = evening_visit_rate\n",
    "    return df\n",
    "\n",
    "df = time2daytime(df)"
   ]
  },
  {
   "cell_type": "code",
   "execution_count": 11,
   "metadata": {
    "collapsed": false,
    "deletable": true,
    "editable": true,
    "scrolled": true
   },
   "outputs": [
    {
     "data": {
      "text/html": [
       "<div>\n",
       "<style>\n",
       "    .dataframe thead tr:only-child th {\n",
       "        text-align: right;\n",
       "    }\n",
       "\n",
       "    .dataframe thead th {\n",
       "        text-align: left;\n",
       "    }\n",
       "\n",
       "    .dataframe tbody tr th {\n",
       "        vertical-align: top;\n",
       "    }\n",
       "</style>\n",
       "<table border=\"1\" class=\"dataframe\">\n",
       "  <thead>\n",
       "    <tr style=\"text-align: right;\">\n",
       "      <th></th>\n",
       "      <th>gender</th>\n",
       "      <th>age</th>\n",
       "      <th>uid</th>\n",
       "      <th>user_json</th>\n",
       "      <th>user_json_parsed</th>\n",
       "      <th>urls</th>\n",
       "      <th>domains</th>\n",
       "      <th>timestamp</th>\n",
       "      <th>night_visit_rate</th>\n",
       "      <th>morning_visit_rate</th>\n",
       "      <th>daytime_visit_rate</th>\n",
       "      <th>evening_visit_rate</th>\n",
       "    </tr>\n",
       "  </thead>\n",
       "  <tbody>\n",
       "    <tr>\n",
       "      <th>0</th>\n",
       "      <td>F</td>\n",
       "      <td>18-24</td>\n",
       "      <td>d50192e5-c44e-4ae8-ae7a-7cfe67c8b777</td>\n",
       "      <td>{\"visits\": [{\"url\": \"http://zebra-zoya.ru/2000...</td>\n",
       "      <td>{'visits': [{'url': 'http://zebra-zoya.ru/2000...</td>\n",
       "      <td>[http://zebra-zoya.ru/200028-chehol-organayzer...</td>\n",
       "      <td>[zebra-zoya.ru, news.yandex.ru, sotovik.ru, ne...</td>\n",
       "      <td>[2014-12-27 16:49:04.068000, 2015-03-18 11:11:...</td>\n",
       "      <td>0.000000</td>\n",
       "      <td>0.800000</td>\n",
       "      <td>0.200000</td>\n",
       "      <td>0.000000</td>\n",
       "    </tr>\n",
       "    <tr>\n",
       "      <th>1</th>\n",
       "      <td>M</td>\n",
       "      <td>25-34</td>\n",
       "      <td>d502331d-621e-4721-ada2-5d30b2c3801f</td>\n",
       "      <td>{\"visits\": [{\"url\": \"http://sweetrading.ru/?p=...</td>\n",
       "      <td>{'visits': [{'url': 'http://sweetrading.ru/?p=...</td>\n",
       "      <td>[http://sweetrading.ru/?p=900, http://sweetrad...</td>\n",
       "      <td>[sweetrading.ru, sweetrading.ru, sweetrading.r...</td>\n",
       "      <td>[2014-12-28 01:04:46.224000, 2014-12-28 01:04:...</td>\n",
       "      <td>0.147059</td>\n",
       "      <td>0.029412</td>\n",
       "      <td>0.205882</td>\n",
       "      <td>0.617647</td>\n",
       "    </tr>\n",
       "  </tbody>\n",
       "</table>\n",
       "</div>"
      ],
      "text/plain": [
       "  gender    age                                   uid  \\\n",
       "0      F  18-24  d50192e5-c44e-4ae8-ae7a-7cfe67c8b777   \n",
       "1      M  25-34  d502331d-621e-4721-ada2-5d30b2c3801f   \n",
       "\n",
       "                                           user_json  \\\n",
       "0  {\"visits\": [{\"url\": \"http://zebra-zoya.ru/2000...   \n",
       "1  {\"visits\": [{\"url\": \"http://sweetrading.ru/?p=...   \n",
       "\n",
       "                                    user_json_parsed  \\\n",
       "0  {'visits': [{'url': 'http://zebra-zoya.ru/2000...   \n",
       "1  {'visits': [{'url': 'http://sweetrading.ru/?p=...   \n",
       "\n",
       "                                                urls  \\\n",
       "0  [http://zebra-zoya.ru/200028-chehol-organayzer...   \n",
       "1  [http://sweetrading.ru/?p=900, http://sweetrad...   \n",
       "\n",
       "                                             domains  \\\n",
       "0  [zebra-zoya.ru, news.yandex.ru, sotovik.ru, ne...   \n",
       "1  [sweetrading.ru, sweetrading.ru, sweetrading.r...   \n",
       "\n",
       "                                           timestamp  night_visit_rate  \\\n",
       "0  [2014-12-27 16:49:04.068000, 2015-03-18 11:11:...          0.000000   \n",
       "1  [2014-12-28 01:04:46.224000, 2014-12-28 01:04:...          0.147059   \n",
       "\n",
       "   morning_visit_rate  daytime_visit_rate  evening_visit_rate  \n",
       "0            0.800000            0.200000            0.000000  \n",
       "1            0.029412            0.205882            0.617647  "
      ]
     },
     "execution_count": 11,
     "metadata": {},
     "output_type": "execute_result"
    }
   ],
   "source": [
    "df.head(2)"
   ]
  },
  {
   "cell_type": "markdown",
   "metadata": {
    "deletable": true,
    "editable": true
   },
   "source": [
    "# Site parsing"
   ]
  },
  {
   "cell_type": "code",
   "execution_count": 12,
   "metadata": {
    "collapsed": true,
    "deletable": true,
    "editable": true
   },
   "outputs": [],
   "source": [
    "from bs4 import BeautifulSoup\n",
    "import requests\n",
    "from lxml.html import fromstring"
   ]
  },
  {
   "cell_type": "markdown",
   "metadata": {
    "deletable": true,
    "editable": true
   },
   "source": [
    "**Пропарсим содержимое урлов и вытащим title**"
   ]
  },
  {
   "cell_type": "code",
   "execution_count": 18,
   "metadata": {
    "collapsed": false,
    "deletable": true,
    "editable": true,
    "scrolled": false
   },
   "outputs": [
    {
     "name": "stdout",
     "output_type": "stream",
     "text": [
      "0 http://www.dns-shop.ru/catalog/i192275/smartfon-huawei-ascend-g750-honor-3x-55-8gb-white.html\n",
      "404 Not Found 2014-12-28 20:37:31.015000\n",
      "0 http://www.dns-shop.ru/catalog/i197632/smartfon-dns-s4509-45-4gb-white.html\n",
      "404 Not Found 2014-12-28 19:46:14.944000\n",
      "0 http://www.widewallpapers.ru/index.php?p=static&page=interior-wallpapers-3\n",
      "404 Not Found 2014-12-27 10:13:27.911000\n",
      "0 http://www.widewallpapers.ru/index.php?p=static&page=interior-wallpapers-2\n",
      "404 Not Found 2014-12-27 10:13:13.548000\n",
      "0 http://www.hdwallpapers.in/planes-desktop-wallpapers.html\n",
      "Military Wallpapers of Army, Warships, Jet Fighters - Page 1 2014-12-27 10:07:31.545000\n",
      "0 http://www.hdwallpapers.in/inspirational-desktop-wallpapers.html\n",
      "Inspirational Wallpapers - Page 1 - HD Wallpapers 2014-12-27 10:07:18.565000\n",
      "0 http://www.hdwallpapers.in/1366x768_hd-wallpapers-r.html\n",
      "1366x768 HD Resolution Wallpapers - Page 1  2014-12-27 10:06:57.771000\n",
      "0 http://chuvashia.petovod.ru/cheboksary/sell/cats/burmanskaya/burmanskie-kotyata-26521.html\n",
      "Продаю.Бурманские котята!-Чебоксары- частные бесплатные объявления на сайте Petovod.ru  2014-12-14 19:40:56.118000\n",
      "------Missed-------\n",
      "0 http://pinme.ru/u/irusik-67/novogodnie-igrushki-svoimi-rukami/\n",
      "Новогодние игрушки своими руками / Pinme 2014-12-04 20:53:04.146000\n",
      "0 http://mira5.com/exali-medvedi/\n",
      "Ехали медведи на велосипеде...\"Тараканище\" К.Чуковский (стих и мультик) | Мама, папа и дитя 2014-12-02 18:48:35.553000\n",
      "0 http://support.kaspersky.ru/kav2015\n",
      "\n",
      "\tKaspersky Anti-Virus 2015\n",
      " 2015-03-24 23:57:16.462000\n",
      "0 http://muz-tv.ru/hit-online/\n",
      "Бесплатная музыка, mp3 на МУЗ-ТВ, слушать бесплатно онлайн 2015-03-21 02:01:21\n",
      "0 http://muz-tv.ru/search/?q=макс корж&find=\n",
      "Поиск 2015-03-21 02:00:52\n",
      "0 http://muz-tv.ru/hit-online/\n",
      "Бесплатная музыка, mp3 на МУЗ-ТВ, слушать бесплатно онлайн 2015-03-21 02:00:06\n",
      "0 http://muz-tv.ru/look/muztvchart/\n",
      "МУЗ-ТВ Чарт - МУЗ-ТВ 2015-03-21 00:59:57\n",
      "0 http://catalog-ori.ru/katalog/2015/6/1\n",
      "Смотреть каталог Орифлейм 6 2015, страница 1 :: Онлайн каталог Oriflame 2015-03-20 12:23:39\n",
      "0 http://catalog-ori.ru/\n",
      "Смотреть каталог Орифлэйм 8 2018 онлайн, новый каталог Oriflame 7 2018, каталог Орифлейм 6 2018 2015-03-20 12:23:34\n",
      "gender        F\n",
      "age       18-24\n",
      "Name: 24468, dtype: object\n"
     ]
    },
    {
     "data": {
      "text/plain": [
       "[['404 Not Found',\n",
       "  '404 Not Found',\n",
       "  '404 Not Found',\n",
       "  '404 Not Found',\n",
       "  'Military Wallpapers of Army, Warships, Jet Fighters - Page 1',\n",
       "  'Inspirational Wallpapers - Page 1 - HD Wallpapers',\n",
       "  '1366x768 HD Resolution Wallpapers - Page 1 ',\n",
       "  'Продаю.Бурманские котята!-Чебоксары- частные бесплатные объявления на сайте Petovod.ru ',\n",
       "  'Новогодние игрушки своими руками / Pinme',\n",
       "  'Ехали медведи на велосипеде...\"Тараканище\" К.Чуковский (стих и мультик) | Мама, папа и дитя',\n",
       "  '\\r\\n\\tKaspersky Anti-Virus 2015\\r\\n',\n",
       "  'Бесплатная музыка, mp3 на МУЗ-ТВ, слушать бесплатно онлайн',\n",
       "  'Поиск',\n",
       "  'Бесплатная музыка, mp3 на МУЗ-ТВ, слушать бесплатно онлайн',\n",
       "  'МУЗ-ТВ Чарт - МУЗ-ТВ',\n",
       "  'Смотреть каталог Орифлейм 6 2015, страница 1 :: Онлайн каталог Oriflame',\n",
       "  'Смотреть каталог Орифлэйм 8 2018 онлайн, новый каталог Oriflame 7 2018, каталог Орифлейм 6 2018']]"
      ]
     },
     "execution_count": 18,
     "metadata": {},
     "output_type": "execute_result"
    }
   ],
   "source": [
    "def get_title_from_url(df):\n",
    "    titles_list = []\n",
    "    for count, uid in enumerate(range(len(df))):        \n",
    "        # выберем индексы уникальных доменов\n",
    "#         user_domains_unique, indices = np.unique(df.iloc[uid]['domains'], return_index=True)\n",
    "        user_urls = df.iloc[uid]['urls']\n",
    "#         user_urls_unique = [df.iloc[uid]['urls'][i] for i in indices]\n",
    "        titles_per_user = []\n",
    "        for time_idx, url in enumerate(user_urls):\n",
    "#         for url in user_urls_unique:\n",
    "            # try except нужен, т.к. могут быть connection problems\n",
    "            try:\n",
    "                r = requests.get(url, timeout=1)\n",
    "                if r.encoding != 'ISO-8859-1':           \n",
    "                    html = BeautifulSoup(r.text, 'lxml')\n",
    "                    title = html.title.text\n",
    "                    titles_per_user.append(title)\n",
    "                    print(count, url)\n",
    "                    print(title, df.iloc[uid]['timestamp'][time_idx])\n",
    "            except:\n",
    "                print('------Missed-------')\n",
    "                \n",
    "    titles_list.append(titles_per_user)\n",
    "#     df_with_title = df.copy()\n",
    "#     df_with_title['titles'] = titles_list\n",
    "    print(df.iloc[uid][['gender', 'age']])\n",
    "    return titles_list\n",
    "\n",
    "i = random.randint(1, 30000)\n",
    "get_title_from_url(df[i:i+1])"
   ]
  },
  {
   "cell_type": "code",
   "execution_count": 19,
   "metadata": {
    "collapsed": false,
    "deletable": true,
    "editable": true
   },
   "outputs": [
    {
     "data": {
      "text/plain": [
       "'Макароны с овощами - пошаговый рецепт с фото на Повар.ру'"
      ]
     },
     "execution_count": 19,
     "metadata": {},
     "output_type": "execute_result"
    }
   ],
   "source": [
    "r = requests.get('http://povar.ru/recipes/makarony_s_ovoshami-18185.html')\n",
    "html = BeautifulSoup(r.text, 'lxml')\n",
    "html.title.text"
   ]
  },
  {
   "cell_type": "code",
   "execution_count": null,
   "metadata": {
    "collapsed": true,
    "deletable": true,
    "editable": true
   },
   "outputs": [],
   "source": []
  },
  {
   "cell_type": "code",
   "execution_count": null,
   "metadata": {
    "collapsed": true,
    "deletable": true,
    "editable": true
   },
   "outputs": [],
   "source": []
  },
  {
   "cell_type": "code",
   "execution_count": null,
   "metadata": {
    "collapsed": true,
    "deletable": true,
    "editable": true
   },
   "outputs": [],
   "source": []
  },
  {
   "cell_type": "code",
   "execution_count": null,
   "metadata": {
    "collapsed": true,
    "deletable": true,
    "editable": true
   },
   "outputs": [],
   "source": []
  },
  {
   "cell_type": "code",
   "execution_count": null,
   "metadata": {
    "collapsed": true
   },
   "outputs": [],
   "source": []
  },
  {
   "cell_type": "code",
   "execution_count": null,
   "metadata": {
    "collapsed": true
   },
   "outputs": [],
   "source": []
  },
  {
   "cell_type": "code",
   "execution_count": null,
   "metadata": {
    "collapsed": true
   },
   "outputs": [],
   "source": []
  },
  {
   "cell_type": "code",
   "execution_count": null,
   "metadata": {
    "collapsed": true
   },
   "outputs": [],
   "source": []
  },
  {
   "cell_type": "code",
   "execution_count": null,
   "metadata": {
    "collapsed": true
   },
   "outputs": [],
   "source": []
  },
  {
   "cell_type": "code",
   "execution_count": null,
   "metadata": {
    "collapsed": true,
    "deletable": true,
    "editable": true
   },
   "outputs": [],
   "source": []
  },
  {
   "cell_type": "code",
   "execution_count": null,
   "metadata": {
    "collapsed": true,
    "deletable": true,
    "editable": true
   },
   "outputs": [],
   "source": []
  },
  {
   "cell_type": "code",
   "execution_count": null,
   "metadata": {
    "collapsed": true,
    "deletable": true,
    "editable": true
   },
   "outputs": [],
   "source": []
  },
  {
   "cell_type": "code",
   "execution_count": null,
   "metadata": {
    "collapsed": true,
    "deletable": true,
    "editable": true
   },
   "outputs": [],
   "source": []
  },
  {
   "cell_type": "code",
   "execution_count": null,
   "metadata": {
    "collapsed": true,
    "deletable": true,
    "editable": true
   },
   "outputs": [],
   "source": []
  },
  {
   "cell_type": "code",
   "execution_count": null,
   "metadata": {
    "collapsed": true,
    "deletable": true,
    "editable": true
   },
   "outputs": [],
   "source": []
  },
  {
   "cell_type": "code",
   "execution_count": null,
   "metadata": {
    "collapsed": true,
    "deletable": true,
    "editable": true
   },
   "outputs": [],
   "source": []
  },
  {
   "cell_type": "code",
   "execution_count": null,
   "metadata": {
    "collapsed": true,
    "deletable": true,
    "editable": true
   },
   "outputs": [],
   "source": []
  },
  {
   "cell_type": "markdown",
   "metadata": {
    "deletable": true,
    "editable": true
   },
   "source": [
    "# Bag of sites"
   ]
  },
  {
   "cell_type": "code",
   "execution_count": 167,
   "metadata": {
    "collapsed": false,
    "deletable": true,
    "editable": true
   },
   "outputs": [
    {
     "data": {
      "text/plain": [
       "[('avito.ru', 466510),\n",
       " ('smotri.com', 207694),\n",
       " ('24open.ru', 91862),\n",
       " ('loveplanet.ru', 91054),\n",
       " ('mail.rambler.ru', 81633)]"
      ]
     },
     "execution_count": 167,
     "metadata": {},
     "output_type": "execute_result"
    }
   ],
   "source": [
    "def site_counter(df, top_num):\n",
    "    lst = []\n",
    "    for i in range(len(df)):\n",
    "        lst.append(df.iloc[i]['domains'])\n",
    "    flat_list = [item for sublist in lst for item in sublist]\n",
    "    \n",
    "    c = Counter()\n",
    "    for word in flat_list:\n",
    "        c[word] += 1\n",
    "    \n",
    "    return c.most_common(top_num)\n",
    "\n",
    "site_counter(df, top_num=5)"
   ]
  },
  {
   "cell_type": "code",
   "execution_count": 168,
   "metadata": {
    "collapsed": true,
    "deletable": true,
    "editable": true
   },
   "outputs": [],
   "source": [
    "%%time\n",
    "def make_bag_of_sites_df(feat_num):\n",
    "    top_n = [val[0] for val in site_counter(df, feat_num)]    \n",
    "    vec_top_n = []\n",
    "    for i in range(len(df)):\n",
    "        uid_domains = df.iloc[i]['domains']\n",
    "        uid_vec_top_n = []\n",
    "        for d in top_n:\n",
    "            uid_vec_top_n.append(uid_domains.count(d))\n",
    "        vec_top_n.append(uid_vec_top_n)\n",
    "    return pd.DataFrame(vec_top_n, columns=top_n)\n",
    "\n",
    "bag_of_sites = make_bag_of_sites_df(feat_num=300)"
   ]
  },
  {
   "cell_type": "code",
   "execution_count": 169,
   "metadata": {
    "collapsed": false,
    "deletable": true,
    "editable": true
   },
   "outputs": [],
   "source": [
    "df_res = pd.concat([df[['gender', 'age']], bag_of_sites], axis=1)"
   ]
  },
  {
   "cell_type": "code",
   "execution_count": 170,
   "metadata": {
    "collapsed": false,
    "deletable": true,
    "editable": true
   },
   "outputs": [
    {
     "data": {
      "text/html": [
       "<div>\n",
       "<style>\n",
       "    .dataframe thead tr:only-child th {\n",
       "        text-align: right;\n",
       "    }\n",
       "\n",
       "    .dataframe thead th {\n",
       "        text-align: left;\n",
       "    }\n",
       "\n",
       "    .dataframe tbody tr th {\n",
       "        vertical-align: top;\n",
       "    }\n",
       "</style>\n",
       "<table border=\"1\" class=\"dataframe\">\n",
       "  <thead>\n",
       "    <tr style=\"text-align: right;\">\n",
       "      <th></th>\n",
       "      <th>gender</th>\n",
       "      <th>age</th>\n",
       "      <th>avito.ru</th>\n",
       "      <th>smotri.com</th>\n",
       "      <th>24open.ru</th>\n",
       "      <th>loveplanet.ru</th>\n",
       "      <th>mail.rambler.ru</th>\n",
       "      <th>youtube.com</th>\n",
       "      <th>yandex.ru</th>\n",
       "      <th>vk.com</th>\n",
       "      <th>...</th>\n",
       "      <th>ru.jobrapido.com</th>\n",
       "      <th>date.bluesystem.ru</th>\n",
       "      <th>speedtest.net</th>\n",
       "      <th>retest.me</th>\n",
       "      <th>tempfile.ru</th>\n",
       "      <th>vtraxe.com</th>\n",
       "      <th>ridus.ru</th>\n",
       "      <th>live.russia.tv</th>\n",
       "      <th>i6.webware.ru</th>\n",
       "      <th>love.nnovgorod.net</th>\n",
       "    </tr>\n",
       "  </thead>\n",
       "  <tbody>\n",
       "    <tr>\n",
       "      <th>0</th>\n",
       "      <td>F</td>\n",
       "      <td>18-24</td>\n",
       "      <td>0</td>\n",
       "      <td>0</td>\n",
       "      <td>0</td>\n",
       "      <td>0</td>\n",
       "      <td>0</td>\n",
       "      <td>0</td>\n",
       "      <td>0</td>\n",
       "      <td>0</td>\n",
       "      <td>...</td>\n",
       "      <td>0</td>\n",
       "      <td>0</td>\n",
       "      <td>0</td>\n",
       "      <td>0</td>\n",
       "      <td>0</td>\n",
       "      <td>0</td>\n",
       "      <td>0</td>\n",
       "      <td>0</td>\n",
       "      <td>0</td>\n",
       "      <td>0</td>\n",
       "    </tr>\n",
       "    <tr>\n",
       "      <th>1</th>\n",
       "      <td>M</td>\n",
       "      <td>25-34</td>\n",
       "      <td>0</td>\n",
       "      <td>0</td>\n",
       "      <td>0</td>\n",
       "      <td>0</td>\n",
       "      <td>0</td>\n",
       "      <td>0</td>\n",
       "      <td>0</td>\n",
       "      <td>0</td>\n",
       "      <td>...</td>\n",
       "      <td>0</td>\n",
       "      <td>0</td>\n",
       "      <td>0</td>\n",
       "      <td>0</td>\n",
       "      <td>0</td>\n",
       "      <td>0</td>\n",
       "      <td>0</td>\n",
       "      <td>0</td>\n",
       "      <td>0</td>\n",
       "      <td>0</td>\n",
       "    </tr>\n",
       "    <tr>\n",
       "      <th>2</th>\n",
       "      <td>F</td>\n",
       "      <td>25-34</td>\n",
       "      <td>0</td>\n",
       "      <td>0</td>\n",
       "      <td>0</td>\n",
       "      <td>0</td>\n",
       "      <td>0</td>\n",
       "      <td>0</td>\n",
       "      <td>0</td>\n",
       "      <td>0</td>\n",
       "      <td>...</td>\n",
       "      <td>0</td>\n",
       "      <td>0</td>\n",
       "      <td>0</td>\n",
       "      <td>0</td>\n",
       "      <td>0</td>\n",
       "      <td>0</td>\n",
       "      <td>0</td>\n",
       "      <td>0</td>\n",
       "      <td>0</td>\n",
       "      <td>0</td>\n",
       "    </tr>\n",
       "  </tbody>\n",
       "</table>\n",
       "<p>3 rows × 302 columns</p>\n",
       "</div>"
      ],
      "text/plain": [
       "  gender    age  avito.ru  smotri.com  24open.ru  loveplanet.ru  \\\n",
       "0      F  18-24         0           0          0              0   \n",
       "1      M  25-34         0           0          0              0   \n",
       "2      F  25-34         0           0          0              0   \n",
       "\n",
       "   mail.rambler.ru  youtube.com  yandex.ru  vk.com         ...          \\\n",
       "0                0            0          0       0         ...           \n",
       "1                0            0          0       0         ...           \n",
       "2                0            0          0       0         ...           \n",
       "\n",
       "   ru.jobrapido.com  date.bluesystem.ru  speedtest.net  retest.me  \\\n",
       "0                 0                   0              0          0   \n",
       "1                 0                   0              0          0   \n",
       "2                 0                   0              0          0   \n",
       "\n",
       "   tempfile.ru  vtraxe.com  ridus.ru  live.russia.tv  i6.webware.ru  \\\n",
       "0            0           0         0               0              0   \n",
       "1            0           0         0               0              0   \n",
       "2            0           0         0               0              0   \n",
       "\n",
       "   love.nnovgorod.net  \n",
       "0                   0  \n",
       "1                   0  \n",
       "2                   0  \n",
       "\n",
       "[3 rows x 302 columns]"
      ]
     },
     "execution_count": 170,
     "metadata": {},
     "output_type": "execute_result"
    }
   ],
   "source": [
    "df_res.head(3)"
   ]
  },
  {
   "cell_type": "code",
   "execution_count": null,
   "metadata": {
    "collapsed": true,
    "deletable": true,
    "editable": true
   },
   "outputs": [],
   "source": []
  },
  {
   "cell_type": "markdown",
   "metadata": {
    "deletable": true,
    "editable": true
   },
   "source": [
    "### Деление на train и test сеты, обучение модели, предсказания для test-сета"
   ]
  },
  {
   "cell_type": "code",
   "execution_count": 14,
   "metadata": {
    "collapsed": false,
    "deletable": true,
    "editable": true
   },
   "outputs": [
    {
     "name": "stdout",
     "output_type": "stream",
     "text": [
      "train/test split: 36138 5000\n"
     ]
    }
   ],
   "source": [
    "train_df = df_res[~((df_res.gender == '-') & (df_res.age == '-'))]\n",
    "test_df = df_res[(df_res.gender == '-') & (df_res.age == '-')]\n",
    "print('train/test split:', len(train_df), len(test_df))"
   ]
  },
  {
   "cell_type": "markdown",
   "metadata": {
    "deletable": true,
    "editable": true
   },
   "source": [
    "#### Посмотрим на сбалансированность выборки по целевым переменным"
   ]
  },
  {
   "cell_type": "code",
   "execution_count": 18,
   "metadata": {
    "collapsed": false,
    "deletable": true,
    "editable": true,
    "scrolled": true
   },
   "outputs": [],
   "source": [
    "# fig, (ax1, ax2) = plt.subplots(nrows=1, ncols=2, sharex=False, sharey=True, figsize=(16,4))\n",
    "\n",
    "# ax1.set_title('Gender distribution')\n",
    "# ax1.bar(x=['F', 'M'], \n",
    "#         height=(len(train_df[train_df['gender'] == 'F']), len(train_df[train_df['gender'] == 'M'])),\n",
    "#         width=0.6, color='c', alpha=0.6);\n",
    "\n",
    "# ax2.set_title('Age distribution')\n",
    "# ax2.bar(x=train_df['age'].unique(), \n",
    "#         height=train_df.groupby('age').count().reset_index()['gender'].values,\n",
    "#         width=0.6, color='g', alpha=0.6);\n",
    "\n",
    "# plt.tight_layout()"
   ]
  },
  {
   "cell_type": "code",
   "execution_count": 19,
   "metadata": {
    "collapsed": true,
    "deletable": true,
    "editable": true
   },
   "outputs": [],
   "source": [
    "train_df = train_df.drop('age', axis=1)\n",
    "test_df = test_df.drop(['gender', 'age'], axis=1)"
   ]
  },
  {
   "cell_type": "code",
   "execution_count": 20,
   "metadata": {
    "collapsed": true,
    "deletable": true,
    "editable": true
   },
   "outputs": [],
   "source": [
    "# f - 0, m -1\n",
    "train_df['gender'] = pd.Series(train_df['gender']).astype('category').cat.codes"
   ]
  },
  {
   "cell_type": "code",
   "execution_count": 21,
   "metadata": {
    "collapsed": false,
    "deletable": true,
    "editable": true
   },
   "outputs": [
    {
     "data": {
      "text/html": [
       "<div>\n",
       "<style>\n",
       "    .dataframe thead tr:only-child th {\n",
       "        text-align: right;\n",
       "    }\n",
       "\n",
       "    .dataframe thead th {\n",
       "        text-align: left;\n",
       "    }\n",
       "\n",
       "    .dataframe tbody tr th {\n",
       "        vertical-align: top;\n",
       "    }\n",
       "</style>\n",
       "<table border=\"1\" class=\"dataframe\">\n",
       "  <thead>\n",
       "    <tr style=\"text-align: right;\">\n",
       "      <th></th>\n",
       "      <th>gender</th>\n",
       "      <th>avito.ru</th>\n",
       "      <th>smotri.com</th>\n",
       "      <th>24open.ru</th>\n",
       "      <th>loveplanet.ru</th>\n",
       "      <th>mail.rambler.ru</th>\n",
       "      <th>youtube.com</th>\n",
       "      <th>yandex.ru</th>\n",
       "      <th>vk.com</th>\n",
       "      <th>ebay.com</th>\n",
       "      <th>...</th>\n",
       "      <th>ru.jobrapido.com</th>\n",
       "      <th>date.bluesystem.ru</th>\n",
       "      <th>speedtest.net</th>\n",
       "      <th>retest.me</th>\n",
       "      <th>tempfile.ru</th>\n",
       "      <th>vtraxe.com</th>\n",
       "      <th>ridus.ru</th>\n",
       "      <th>live.russia.tv</th>\n",
       "      <th>i6.webware.ru</th>\n",
       "      <th>love.nnovgorod.net</th>\n",
       "    </tr>\n",
       "  </thead>\n",
       "  <tbody>\n",
       "    <tr>\n",
       "      <th>0</th>\n",
       "      <td>0</td>\n",
       "      <td>0</td>\n",
       "      <td>0</td>\n",
       "      <td>0</td>\n",
       "      <td>0</td>\n",
       "      <td>0</td>\n",
       "      <td>0</td>\n",
       "      <td>0</td>\n",
       "      <td>0</td>\n",
       "      <td>0</td>\n",
       "      <td>...</td>\n",
       "      <td>0</td>\n",
       "      <td>0</td>\n",
       "      <td>0</td>\n",
       "      <td>0</td>\n",
       "      <td>0</td>\n",
       "      <td>0</td>\n",
       "      <td>0</td>\n",
       "      <td>0</td>\n",
       "      <td>0</td>\n",
       "      <td>0</td>\n",
       "    </tr>\n",
       "    <tr>\n",
       "      <th>1</th>\n",
       "      <td>1</td>\n",
       "      <td>0</td>\n",
       "      <td>0</td>\n",
       "      <td>0</td>\n",
       "      <td>0</td>\n",
       "      <td>0</td>\n",
       "      <td>0</td>\n",
       "      <td>0</td>\n",
       "      <td>0</td>\n",
       "      <td>0</td>\n",
       "      <td>...</td>\n",
       "      <td>0</td>\n",
       "      <td>0</td>\n",
       "      <td>0</td>\n",
       "      <td>0</td>\n",
       "      <td>0</td>\n",
       "      <td>0</td>\n",
       "      <td>0</td>\n",
       "      <td>0</td>\n",
       "      <td>0</td>\n",
       "      <td>0</td>\n",
       "    </tr>\n",
       "    <tr>\n",
       "      <th>2</th>\n",
       "      <td>0</td>\n",
       "      <td>0</td>\n",
       "      <td>0</td>\n",
       "      <td>0</td>\n",
       "      <td>0</td>\n",
       "      <td>0</td>\n",
       "      <td>0</td>\n",
       "      <td>0</td>\n",
       "      <td>0</td>\n",
       "      <td>0</td>\n",
       "      <td>...</td>\n",
       "      <td>0</td>\n",
       "      <td>0</td>\n",
       "      <td>0</td>\n",
       "      <td>0</td>\n",
       "      <td>0</td>\n",
       "      <td>0</td>\n",
       "      <td>0</td>\n",
       "      <td>0</td>\n",
       "      <td>0</td>\n",
       "      <td>0</td>\n",
       "    </tr>\n",
       "    <tr>\n",
       "      <th>3</th>\n",
       "      <td>0</td>\n",
       "      <td>0</td>\n",
       "      <td>0</td>\n",
       "      <td>0</td>\n",
       "      <td>0</td>\n",
       "      <td>0</td>\n",
       "      <td>0</td>\n",
       "      <td>0</td>\n",
       "      <td>0</td>\n",
       "      <td>0</td>\n",
       "      <td>...</td>\n",
       "      <td>0</td>\n",
       "      <td>0</td>\n",
       "      <td>0</td>\n",
       "      <td>0</td>\n",
       "      <td>0</td>\n",
       "      <td>0</td>\n",
       "      <td>0</td>\n",
       "      <td>0</td>\n",
       "      <td>0</td>\n",
       "      <td>0</td>\n",
       "    </tr>\n",
       "    <tr>\n",
       "      <th>4</th>\n",
       "      <td>1</td>\n",
       "      <td>0</td>\n",
       "      <td>0</td>\n",
       "      <td>0</td>\n",
       "      <td>0</td>\n",
       "      <td>46</td>\n",
       "      <td>0</td>\n",
       "      <td>0</td>\n",
       "      <td>0</td>\n",
       "      <td>0</td>\n",
       "      <td>...</td>\n",
       "      <td>0</td>\n",
       "      <td>0</td>\n",
       "      <td>0</td>\n",
       "      <td>0</td>\n",
       "      <td>0</td>\n",
       "      <td>0</td>\n",
       "      <td>0</td>\n",
       "      <td>0</td>\n",
       "      <td>0</td>\n",
       "      <td>0</td>\n",
       "    </tr>\n",
       "  </tbody>\n",
       "</table>\n",
       "<p>5 rows × 301 columns</p>\n",
       "</div>"
      ],
      "text/plain": [
       "   gender  avito.ru  smotri.com  24open.ru  loveplanet.ru  mail.rambler.ru  \\\n",
       "0       0         0           0          0              0                0   \n",
       "1       1         0           0          0              0                0   \n",
       "2       0         0           0          0              0                0   \n",
       "3       0         0           0          0              0                0   \n",
       "4       1         0           0          0              0               46   \n",
       "\n",
       "   youtube.com  yandex.ru  vk.com  ebay.com         ...          \\\n",
       "0            0          0       0         0         ...           \n",
       "1            0          0       0         0         ...           \n",
       "2            0          0       0         0         ...           \n",
       "3            0          0       0         0         ...           \n",
       "4            0          0       0         0         ...           \n",
       "\n",
       "   ru.jobrapido.com  date.bluesystem.ru  speedtest.net  retest.me  \\\n",
       "0                 0                   0              0          0   \n",
       "1                 0                   0              0          0   \n",
       "2                 0                   0              0          0   \n",
       "3                 0                   0              0          0   \n",
       "4                 0                   0              0          0   \n",
       "\n",
       "   tempfile.ru  vtraxe.com  ridus.ru  live.russia.tv  i6.webware.ru  \\\n",
       "0            0           0         0               0              0   \n",
       "1            0           0         0               0              0   \n",
       "2            0           0         0               0              0   \n",
       "3            0           0         0               0              0   \n",
       "4            0           0         0               0              0   \n",
       "\n",
       "   love.nnovgorod.net  \n",
       "0                   0  \n",
       "1                   0  \n",
       "2                   0  \n",
       "3                   0  \n",
       "4                   0  \n",
       "\n",
       "[5 rows x 301 columns]"
      ]
     },
     "execution_count": 21,
     "metadata": {},
     "output_type": "execute_result"
    }
   ],
   "source": [
    "train_df.head()"
   ]
  },
  {
   "cell_type": "code",
   "execution_count": 22,
   "metadata": {
    "collapsed": true,
    "deletable": true,
    "editable": true
   },
   "outputs": [],
   "source": [
    "X = train_df.drop(['gender'], axis=1)\n",
    "y = train_df['gender']\n",
    "X_train, X_test, y_train, y_test = train_test_split(X, y, test_size=0.3, random_state=42)"
   ]
  },
  {
   "cell_type": "code",
   "execution_count": 51,
   "metadata": {
    "collapsed": false,
    "deletable": true,
    "editable": true
   },
   "outputs": [],
   "source": [
    "clf = RandomForestClassifier(n_jobs=20, n_estimators=1000, max_depth=None, min_samples_split=2, random_state=0)\n",
    "clf.fit(X_train, y_train)\n",
    "y_pred = clf.predict(X_test)"
   ]
  },
  {
   "cell_type": "code",
   "execution_count": 52,
   "metadata": {
    "collapsed": false,
    "deletable": true,
    "editable": true
   },
   "outputs": [
    {
     "data": {
      "text/plain": [
       "0.6317100166021029"
      ]
     },
     "execution_count": 52,
     "metadata": {},
     "output_type": "execute_result"
    }
   ],
   "source": [
    "accuracy_score(y_test, y_pred)"
   ]
  },
  {
   "cell_type": "code",
   "execution_count": null,
   "metadata": {
    "collapsed": false,
    "deletable": true,
    "editable": true
   },
   "outputs": [],
   "source": [
    "sorted(list(zip(clf.feature_importances_, X_train.columns)), reverse=True)[:15]"
   ]
  },
  {
   "cell_type": "code",
   "execution_count": 53,
   "metadata": {
    "collapsed": false,
    "deletable": true,
    "editable": true
   },
   "outputs": [],
   "source": [
    "# model = XGBClassifier(max_depth=10, learning_rate=0.05, n_estimators=500)\n",
    "# model.fit(X_train, y_train)"
   ]
  },
  {
   "cell_type": "code",
   "execution_count": 54,
   "metadata": {
    "collapsed": false,
    "deletable": true,
    "editable": true
   },
   "outputs": [],
   "source": [
    "# y_pred = model.predict_proba(X_test)\n",
    "\n",
    "# from sklearn.metrics import accuracy_score\n",
    "# accuracy_score(y_test, y_pred)"
   ]
  },
  {
   "cell_type": "markdown",
   "metadata": {
    "deletable": true,
    "editable": true
   },
   "source": [
    "### Сохранение модели"
   ]
  },
  {
   "cell_type": "markdown",
   "metadata": {
    "deletable": true,
    "editable": true
   },
   "source": [
    "Обучать модель вы можете в ноутбуке - это удобно. А после того как модель обучилась и стала выдавать приемлемое качество на вашей валидационной выборке, сохраните ее в отдельном файле (например, используя pickle):"
   ]
  },
  {
   "cell_type": "code",
   "execution_count": null,
   "metadata": {
    "collapsed": true,
    "deletable": true,
    "editable": true
   },
   "outputs": [],
   "source": [
    "#Сохранить модель, которая содержится в переменной vectorizer\n",
    "import pickle\n",
    "with open('TfidfVectorizer.pickle', 'wb') as f:\n",
    "    pickle.dump(vectorizer, f)\n"
   ]
  },
  {
   "cell_type": "markdown",
   "metadata": {
    "deletable": true,
    "editable": true
   },
   "source": [
    "Однако, не забудьте сохранить и код генерации признаков и обучения модели - это нужно для воспроизводимости результатов."
   ]
  },
  {
   "cell_type": "markdown",
   "metadata": {
    "deletable": true,
    "editable": true
   },
   "source": [
    "### Обработка тестовых данных и формат вывода результатов"
   ]
  },
  {
   "cell_type": "markdown",
   "metadata": {
    "deletable": true,
    "editable": true
   },
   "source": [
    "Помимо того, что у вас должна получиться точная модель, вам нужно уложиться в SLA (service-level agreement). Всё почти как по-настоящему. Результатом вашей работы в данном случае будет не выходной файл, в котором вы всё посчитали для скрытой выборки, а скрипт, который мы будем запускать и проверять SLA и точность.\n",
    "\n",
    "Вот фрагмент кода, который считывает данные построчно из потока стандартного ввода:"
   ]
  },
  {
   "cell_type": "code",
   "execution_count": null,
   "metadata": {
    "collapsed": true,
    "deletable": true,
    "editable": true
   },
   "outputs": [],
   "source": [
    "data = pd.DataFrame(columns=['gender','age','uid','user_json'])\n",
    "s=0\n",
    "for line in sys.stdin:\n",
    "    data.loc[s] = line.strip().split(\"\\t\")\n",
    "    s+=1"
   ]
  },
  {
   "cell_type": "markdown",
   "metadata": {
    "deletable": true,
    "editable": true
   },
   "source": [
    "Задача вашего скрипта сделать предсказание по всем полученным строкам и выдать результат в формате json. В файле должны быть только те пользователи, у которых пол и возрастная категория изначально неизвестны, и они должны быть **отсортированы по UID по возрастанию значений лексикографически.** Пример вывода указан ниже."
   ]
  },
  {
   "cell_type": "code",
   "execution_count": null,
   "metadata": {
    "collapsed": true,
    "deletable": true,
    "editable": true
   },
   "outputs": [],
   "source": [
    "output = output[['uid', 'gender', 'age']]\n",
    "output.sort_values(by='uid',axis = 0, ascending = True, inplace = True)\n",
    "sys.stdout.write(output.to_json(orient='records'))"
   ]
  },
  {
   "cell_type": "markdown",
   "metadata": {
    "deletable": true,
    "editable": true
   },
   "source": [
    "**Примечание**. Так как в данном проекте вам потребуется сохранять обученные модели в файле, то в вашем коде их нужно загружать явным образом. Иначе чекер не сможет запусть ваш скрипт корректно. Пример:"
   ]
  },
  {
   "cell_type": "code",
   "execution_count": null,
   "metadata": {
    "collapsed": true,
    "deletable": true,
    "editable": true
   },
   "outputs": [],
   "source": [
    "#считать модель из файла в переменную vectorizer\n",
    "import pickle\n",
    "vectorizer= pickle.load(open('/data/home/test.user.bd8/TfidfVectorizer.pickle', 'rb'))"
   ]
  },
  {
   "cell_type": "markdown",
   "metadata": {
    "deletable": true,
    "editable": true
   },
   "source": [
    "Для самопроверки вы можете локально оттестировать свой скрипт, используя следующую команду:"
   ]
  },
  {
   "cell_type": "code",
   "execution_count": null,
   "metadata": {
    "collapsed": true,
    "deletable": true,
    "editable": true
   },
   "outputs": [],
   "source": [
    "!tail -n1000 gender_age_dataset.txt | python3 project01_gender-age.py > output.json"
   ]
  },
  {
   "cell_type": "markdown",
   "metadata": {
    "deletable": true,
    "editable": true
   },
   "source": [
    "### Подсказки\n",
    "\n",
    "1. Есть много различных способов решить данную задачу: можно просто хорошо поработать с урлами и доменами, можно пропарсить содержимое этих урлов (заголовки, текст и т.д.) и воспользоваться неким векторизатором типа TF\\*IDF для генерации дополнительных фич, которые уже в дальнейшем вы подадите на вход ML-алгоритму, можно сделать тематическое моделирование (LDA, BigARTM) сайтов и использовать одну или несколько тем в качестве фич.\n",
    "\n",
    "2. Возможно, что данные грязные и их нужно дополнительно обработать. Спецсимволы, кириллические домены? Уделите этому этапу достаточно времени: здесь чистота датасета важнее, чем выбор алгоритма.\n",
    "\n",
    "3. Часто бывает, что лучшее решение с точки зрения результата — оно же самое простое. Попробуйте сначала простые способы, простые алгоритмы, прежде чем переходить к тяжёлой артиллерии. Один из вариантов — начать с небольшого RandomForest.\n",
    "\n",
    "4. Вам почти наверняка понадобится что-то из пакета sklearn. [Документация](http://scikit-learn.org/stable/user_guide.html) — ваш лучший друг.\n",
    "\n",
    "5. Вы можете сначала предсказать пол, а затем возраст, либо сразу и то, и другое. Экспериментируйте.\n",
    "\n",
    "6. Объединяйтесь в команды. Так гораздо веселее и интереснее."
   ]
  },
  {
   "cell_type": "markdown",
   "metadata": {
    "deletable": true,
    "editable": true
   },
   "source": [
    "### Проверка\n",
    "Проверка осуществляется из [Личного кабинета](http://lk.newprolab.com/lab/project1). До дедлайна вы будете проверять работу своего скрипта на валидационной выборке (2 000 записей). При наступлении дедлайна мы автоматически пересчитаем модели по скрытой тестовой выборке (3 000 записей). Это и будет финальным результатом.\n",
    "\n",
    "* В поле `part of users with predicted gender + age` - указана доля пользователей, которая была предсказана от общего числа неизвестных пользователей (пример: по 3 000 был сделан прогноз, а всего было неизвестно 5 000, чекер выдаст 0.6).\n",
    "\n",
    "* В поле `correctly predicted users / total number of users` - указана доля пользователей, которая была правильно предсказана (совпадает и пол, и возраст) от общего числа всех пользователей (пример: по 3 000 был сделан прогноз, правильно было спрогнозировано 1 500, а всего было неизвестно 5 000, чекер выдаст 0.3)\n",
    "\n",
    "* В поле `correctly predicted users / number of predicted users` - указана доля пользователей, которая была правильно предсказана (совпадает и пол, и возраст) от общего числа предсказанных пользователей (пример: по 3 000 был сделан прогноз, из них правильно предсказано 1 500, чекер выдаст 0.5).\n",
    "\n",
    "**Важное замечание!** Вы должны дать прогноз хотя бы по 50% пользователей, у которых изначально не указан пол и возрастная категория. Иными словами, вы можете оставить неопределенными не более 50% изначально неопределенных пользователей.\n",
    "\n",
    "**Если доля в последнем поле превысит порог 0.28, то проект будет засчитан, при условии что выполнен SLA в 0.04 секунды**\n",
    "\n",
    "Лучшей команде, набравшей максимальный результат, мы подарим специальный приз, о котором скажем позднее."
   ]
  },
  {
   "cell_type": "code",
   "execution_count": null,
   "metadata": {
    "collapsed": true,
    "deletable": true,
    "editable": true
   },
   "outputs": [],
   "source": []
  },
  {
   "cell_type": "code",
   "execution_count": null,
   "metadata": {
    "collapsed": true,
    "deletable": true,
    "editable": true
   },
   "outputs": [],
   "source": []
  },
  {
   "cell_type": "code",
   "execution_count": null,
   "metadata": {
    "collapsed": true,
    "deletable": true,
    "editable": true
   },
   "outputs": [],
   "source": []
  },
  {
   "cell_type": "code",
   "execution_count": null,
   "metadata": {
    "collapsed": true,
    "deletable": true,
    "editable": true
   },
   "outputs": [],
   "source": []
  },
  {
   "cell_type": "code",
   "execution_count": null,
   "metadata": {
    "collapsed": true,
    "deletable": true,
    "editable": true
   },
   "outputs": [],
   "source": []
  },
  {
   "cell_type": "code",
   "execution_count": null,
   "metadata": {
    "collapsed": true,
    "deletable": true,
    "editable": true
   },
   "outputs": [],
   "source": []
  },
  {
   "cell_type": "code",
   "execution_count": null,
   "metadata": {
    "collapsed": true,
    "deletable": true,
    "editable": true
   },
   "outputs": [],
   "source": []
  },
  {
   "cell_type": "code",
   "execution_count": null,
   "metadata": {
    "collapsed": true,
    "deletable": true,
    "editable": true
   },
   "outputs": [],
   "source": []
  },
  {
   "cell_type": "code",
   "execution_count": null,
   "metadata": {
    "collapsed": true,
    "deletable": true,
    "editable": true
   },
   "outputs": [],
   "source": []
  },
  {
   "cell_type": "code",
   "execution_count": null,
   "metadata": {
    "collapsed": true,
    "deletable": true,
    "editable": true
   },
   "outputs": [],
   "source": []
  },
  {
   "cell_type": "code",
   "execution_count": null,
   "metadata": {
    "collapsed": true,
    "deletable": true,
    "editable": true
   },
   "outputs": [],
   "source": []
  }
 ],
 "metadata": {
  "kernelspec": {
   "display_name": "Python 3",
   "language": "python",
   "name": "python3"
  },
  "language_info": {
   "codemirror_mode": {
    "name": "ipython",
    "version": 3
   },
   "file_extension": ".py",
   "mimetype": "text/x-python",
   "name": "python",
   "nbconvert_exporter": "python",
   "pygments_lexer": "ipython3",
   "version": "3.6.4"
  }
 },
 "nbformat": 4,
 "nbformat_minor": 2
}
